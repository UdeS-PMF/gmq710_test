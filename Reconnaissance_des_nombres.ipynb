{
  "nbformat": 4,
  "nbformat_minor": 0,
  "metadata": {
    "colab": {
      "provenance": [],
      "include_colab_link": true
    },
    "kernelspec": {
      "name": "python3",
      "display_name": "Python 3"
    },
    "language_info": {
      "name": "python"
    },
    "accelerator": "GPU",
    "gpuClass": "standard"
  },
  "cells": [
    {
      "cell_type": "markdown",
      "metadata": {
        "id": "view-in-github",
        "colab_type": "text"
      },
      "source": [
        "<a href=\"https://colab.research.google.com/github/UdeS-PMF/gmq710_test/blob/develop/Reconnaissance_des_nombres.ipynb\" target=\"_parent\"><img src=\"https://colab.research.google.com/assets/colab-badge.svg\" alt=\"Open In Colab\"/></a>"
      ]
    },
    {
      "cell_type": "markdown",
      "source": [
        "# Utiliser Jupyter Notebook et TensorFlow/Keras\n",
        "\n",
        "## Objectifs\n",
        "\n",
        "Le but est de pouvoir exécuter du code Python faisant appel à Keras/TensorFlow. On va entrainer un réseau sur les données MNIST (http://yann.lecun.com/exdb/mnist/) et\n",
        "ensuite présenter nos propres images.\n",
        "\n",
        "(réf. : http://robhardwick.me/ml/hello-world/)\n",
        "\n",
        "Dans Jupyter sur Azure TensorFlow et Keras libs sont déjà présentes."
      ],
      "metadata": {
        "id": "h9IEd5BS1A3h"
      }
    },
    {
      "cell_type": "markdown",
      "source": [
        "## Vérifier l'installation\n",
        "\n",
        "Avec quelques instuctions, on peut vérifier l'installation."
      ],
      "metadata": {
        "id": "u8K63y-Q1LY7"
      }
    },
    {
      "cell_type": "code",
      "execution_count": null,
      "metadata": {
        "colab": {
          "base_uri": "https://localhost:8080/"
        },
        "id": "e5VNuYq00gUt",
        "outputId": "9f56ae5a-ab9d-477f-abd9-6a22ada8757f"
      },
      "outputs": [
        {
          "output_type": "stream",
          "name": "stdout",
          "text": [
            "3.5.0\n"
          ]
        }
      ],
      "source": [
        "import keras\n",
        "print(keras.__version__)"
      ]
    },
    {
      "cell_type": "markdown",
      "source": [
        "## Préparation du jeu d'entrainement\n",
        "\n",
        "On prépare les jeux d'entrainement et de test\n",
        "\n",
        "En utilisant Keras, on importe les données d'entrainement"
      ],
      "metadata": {
        "id": "IGFHfXcd1PtI"
      }
    },
    {
      "cell_type": "code",
      "source": [
        "from keras.datasets import mnist\n",
        "#keras will automatically downlhoad the dataset\n",
        "(x_train, y_train), (x_test, y_test) = mnist.load_data()"
      ],
      "metadata": {
        "id": "ONqCt3Va1S3t",
        "colab": {
          "base_uri": "https://localhost:8080/"
        },
        "outputId": "52c59f00-f270-4793-d554-8dc737269259"
      },
      "execution_count": null,
      "outputs": [
        {
          "output_type": "stream",
          "name": "stdout",
          "text": [
            "Downloading data from https://storage.googleapis.com/tensorflow/tf-keras-datasets/mnist.npz\n",
            "\u001b[1m11490434/11490434\u001b[0m \u001b[32m━━━━━━━━━━━━━━━━━━━━\u001b[0m\u001b[37m\u001b[0m \u001b[1m0s\u001b[0m 0us/step\n"
          ]
        }
      ]
    },
    {
      "cell_type": "markdown",
      "source": [
        "## Vérification du jeu\n",
        "\n",
        "On vérifie la lecture des jeux de données *(il est possible qu'il faudra exécuter 2 fois la cellule pour voir les figures)*"
      ],
      "metadata": {
        "id": "JymcqwvL1XzM"
      }
    },
    {
      "cell_type": "code",
      "source": [
        "# on utilise matplotlib pour afficher les données\n",
        "%matplotlib inline\n",
        "# on importe les fonctions\n",
        "import matplotlib.pyplot as plt\n",
        "import random\n",
        "#taille du jeu de données\n",
        "train_size = len(x_train)\n",
        "#génère un nombre aléatoire\n",
        "random.seed(49)\n",
        "# on va créer le graphique (4 graphes)\n",
        "# on va simplement afficher 4 images utilisées pour l'entrainement\n",
        "\n",
        "plt.subplot(221)\n",
        "plt.imshow(x_train[random.randint(0, train_size-1)], cmap=plt.get_cmap('gray'))\n",
        "plt.subplot(222)\n",
        "plt.imshow(x_train[random.randint(0, train_size-1)], cmap=plt.get_cmap('gray'))\n",
        "plt.subplot(223)\n",
        "plt.imshow(x_train[random.randint(0, train_size-1)], cmap=plt.get_cmap('gray'))\n",
        "plt.subplot(224)\n",
        "plt.imshow(x_train[random.randint(0, train_size-1)], cmap=plt.get_cmap('gray'))\n",
        "# show the plot\n",
        "plt.show()"
      ],
      "metadata": {
        "colab": {
          "base_uri": "https://localhost:8080/",
          "height": 432
        },
        "id": "Cp-lHAv81dq1",
        "outputId": "5b137f36-bca1-40a3-e776-620c23561f5c"
      },
      "execution_count": null,
      "outputs": [
        {
          "output_type": "display_data",
          "data": {
            "text/plain": [
              "<Figure size 640x480 with 4 Axes>"
            ],
            "image/png": "[encoded data removed]"
          },
          "metadata": {}
        }
      ]
    },
    {
      "cell_type": "markdown",
      "source": [
        "## Préparation des données\n",
        "\n",
        "On envoie pas des images au réseau de neurone. On va simplement envoyer une ligne de pixels (1d) composée de tous les pixels de l'image.\n",
        "\n",
        "On va modifier les données en entrée pour avoir une seule ligne"
      ],
      "metadata": {
        "id": "1SCTg4uJ1h_b"
      }
    },
    {
      "cell_type": "code",
      "source": [
        "# nombre des pixels\n",
        "#num_pixels = x_train.shape[1] * x_train.shape[2]\n",
        "#on refait nos données d'entrainement en 1 lignes de 784 pixels\n",
        "#x_train = x_train.reshape(x_train.shape[0], num_pixels) / 255\n",
        "#x_test = x_test.reshape(x_test.shape[0], num_pixels) / 255\n",
        "x_train = x_train / 255\n",
        "x_test = x_test / 255"
      ],
      "metadata": {
        "id": "6XoFvapp1lKs"
      },
      "execution_count": null,
      "outputs": []
    },
    {
      "cell_type": "markdown",
      "source": [
        "On va convertir les données (entrainement et test) pour obtenir en sortie du réseau des résultats de type catégories"
      ],
      "metadata": {
        "id": "F-1x3TTu1pYU"
      }
    },
    {
      "cell_type": "code",
      "source": [
        "from keras.utils import to_categorical\n",
        "# on souhaite avoir en sortie une activation selon le chiffre (0 à 9)\n",
        "y_train = to_categorical(y_train)\n",
        "y_test = to_categorical(y_test)"
      ],
      "metadata": {
        "id": "Emx7fu5s1qz6"
      },
      "execution_count": null,
      "outputs": []
    },
    {
      "cell_type": "markdown",
      "source": [
        "## Construction du réseau\n",
        "\n",
        "On va construire le réseau (c'est inspiré du code de https://robhardwick.me/hello-world/).\n",
        "\n",
        "On peut inventer le réseau que l'on souhaite. En fonction de notre connaissance dans l'IA, on peut faire varier les couches et le type de couches."
      ],
      "metadata": {
        "id": "6aRt9Rxv19jI"
      }
    },
    {
      "cell_type": "code",
      "source": [
        "# on importe les libs\n",
        "import tensorflow as tf\n",
        "from keras import backend as K\n",
        "from keras.models import Sequential\n",
        "from keras.layers import Dense\n",
        "from keras.layers import Dropout\n",
        "from keras.layers import Flatten\n",
        "from keras.layers import Lambda, Activation\n",
        "from tensorflow.keras.layers import Conv2D\n",
        "from tensorflow.keras.layers import MaxPooling2D\n",
        "#x_train = x_train.reshape(x_train.shape[0], 28, 28, 1)\n",
        "#x_test = x_test.reshape(x_test.shape[0], 28, 28, 1)\n",
        "num_classes = len(y_train[0])\n",
        "# on définit la succession des couches\n",
        "model = Sequential()\n",
        "model.add(Conv2D(filters=32, kernel_size=(5, 5), input_shape=(28, 28, 1)))\n",
        "model.add(Activation('relu'))\n",
        "model.add(MaxPooling2D(pool_size=(2, 2), strides=2))\n",
        "model.add(Conv2D(64, (5, 5)))\n",
        "model.add(Activation('relu'))\n",
        "model.add(MaxPooling2D(pool_size=(2, 2), strides=2))\n",
        "model.add(Flatten())\n",
        "model.add(Dense(1024))\n",
        "model.add(Dropout(0.4))\n",
        "model.add(Dense(num_classes))\n",
        "model.add(Activation('softmax'))"
      ],
      "metadata": {
        "id": "O6_qDY6Z2AOe",
        "colab": {
          "base_uri": "https://localhost:8080/"
        },
        "outputId": "64cf4e00-afeb-4554-ce0f-bd1dfc0c6bc6"
      },
      "execution_count": null,
      "outputs": [
        {
          "output_type": "stream",
          "name": "stderr",
          "text": [
            "/usr/local/lib/python3.10/dist-packages/keras/src/layers/convolutional/base_conv.py:107: UserWarning: Do not pass an `input_shape`/`input_dim` argument to a layer. When using Sequential models, prefer using an `Input(shape)` object as the first layer in the model instead.\n",
            "  super().__init__(activity_regularizer=activity_regularizer, **kwargs)\n"
          ]
        }
      ]
    },
    {
      "cell_type": "markdown",
      "source": [
        "On affiche le réseau"
      ],
      "metadata": {
        "id": "pSqKtaLb2E9J"
      }
    },
    {
      "cell_type": "code",
      "source": [
        "for i, layer in enumerate(model.layers):\n",
        "    print(i,layer.name)"
      ],
      "metadata": {
        "colab": {
          "base_uri": "https://localhost:8080/"
        },
        "id": "Pfh5jgLr2IAu",
        "outputId": "adb7240b-08b5-454f-ca27-ca3315405c06"
      },
      "execution_count": null,
      "outputs": [
        {
          "output_type": "stream",
          "name": "stdout",
          "text": [
            "0 conv2d\n",
            "1 activation\n",
            "2 max_pooling2d\n",
            "3 conv2d_1\n",
            "4 activation_1\n",
            "5 max_pooling2d_1\n",
            "6 flatten\n",
            "7 dense\n",
            "8 dropout\n",
            "9 dense_1\n",
            "10 activation_2\n"
          ]
        }
      ]
    },
    {
      "cell_type": "markdown",
      "source": [
        "On construit le réseau"
      ],
      "metadata": {
        "id": "uSY-TYMg2MzK"
      }
    },
    {
      "cell_type": "code",
      "source": [
        "model.compile(loss='categorical_crossentropy', optimizer='adam', metrics=['accuracy'])"
      ],
      "metadata": {
        "id": "mz2K9s1w2OTY"
      },
      "execution_count": null,
      "outputs": []
    },
    {
      "cell_type": "markdown",
      "source": [
        "On l'entraine (cette dernière opération peut prendre 20 min). Activer le GPU pour accélérer les choses."
      ],
      "metadata": {
        "id": "Xw4lUD5D2Ub0"
      }
    },
    {
      "cell_type": "code",
      "source": [
        "round = 10#nombre de tour pour l'apprentissage (3 signifie que l'on présente 3 fois le j\n",
        "#eu d'entrainement, on peut facilement augmenter ce nombre)\n",
        "# on présente 3 fois 200 exemples\n",
        "model.fit(x_train, y_train, validation_split=0.1, epochs=round, batch_size=200, verbose=\n",
        "2)"
      ],
      "metadata": {
        "colab": {
          "base_uri": "https://localhost:8080/"
        },
        "id": "8OU8bD7E2Xyq",
        "outputId": "9e930667-7101-4cc3-c64f-537ad6e32f36"
      },
      "execution_count": null,
      "outputs": [
        {
          "output_type": "stream",
          "name": "stdout",
          "text": [
            "Epoch 1/10\n",
            "270/270 - 9s - 35ms/step - accuracy: 0.9407 - loss: 0.1939 - val_accuracy: 0.9823 - val_loss: 0.0583\n",
            "Epoch 2/10\n",
            "270/270 - 1s - 5ms/step - accuracy: 0.9845 - loss: 0.0503 - val_accuracy: 0.9872 - val_loss: 0.0440\n",
            "Epoch 3/10\n",
            "270/270 - 1s - 5ms/step - accuracy: 0.9894 - loss: 0.0338 - val_accuracy: 0.9907 - val_loss: 0.0356\n",
            "Epoch 4/10\n",
            "270/270 - 2s - 6ms/step - accuracy: 0.9916 - loss: 0.0260 - val_accuracy: 0.9917 - val_loss: 0.0296\n",
            "Epoch 5/10\n",
            "270/270 - 2s - 9ms/step - accuracy: 0.9934 - loss: 0.0210 - val_accuracy: 0.9915 - val_loss: 0.0316\n",
            "Epoch 6/10\n",
            "270/270 - 2s - 9ms/step - accuracy: 0.9945 - loss: 0.0172 - val_accuracy: 0.9922 - val_loss: 0.0256\n",
            "Epoch 7/10\n",
            "270/270 - 1s - 4ms/step - accuracy: 0.9956 - loss: 0.0141 - val_accuracy: 0.9930 - val_loss: 0.0270\n",
            "Epoch 8/10\n",
            "270/270 - 1s - 4ms/step - accuracy: 0.9962 - loss: 0.0114 - val_accuracy: 0.9897 - val_loss: 0.0390\n",
            "Epoch 9/10\n",
            "270/270 - 1s - 5ms/step - accuracy: 0.9961 - loss: 0.0118 - val_accuracy: 0.9888 - val_loss: 0.0429\n",
            "Epoch 10/10\n",
            "270/270 - 1s - 5ms/step - accuracy: 0.9968 - loss: 0.0091 - val_accuracy: 0.9917 - val_loss: 0.0353\n"
          ]
        },
        {
          "output_type": "execute_result",
          "data": {
            "text/plain": [
              "<keras.src.callbacks.history.History at 0x7d72efeccdc0>"
            ]
          },
          "metadata": {},
          "execution_count": 9
        }
      ]
    },
    {
      "cell_type": "markdown",
      "source": [
        "## Vérification de l'apprentissage\n",
        "\n",
        "On peut évaluer la précision sur le jeu de test."
      ],
      "metadata": {
        "id": "zhipQjYw2eBI"
      }
    },
    {
      "cell_type": "code",
      "source": [
        "scores = model.evaluate(x_test, y_test, verbose=0)\n",
        "\n",
        "print(\"Baseline Accuracy: %.2f%%\" % (scores[1]*100))"
      ],
      "metadata": {
        "colab": {
          "base_uri": "https://localhost:8080/"
        },
        "id": "6eX_oHXM2hqm",
        "outputId": "e97c907a-dcf2-4cc8-e538-b2fb8e900a17"
      },
      "execution_count": null,
      "outputs": [
        {
          "output_type": "stream",
          "name": "stdout",
          "text": [
            "Baseline Accuracy: 99.11%\n"
          ]
        }
      ]
    },
    {
      "cell_type": "markdown",
      "source": [
        "## Test sur nos données\n",
        "\n",
        "On va évaluer nos images avec le réseau entrainé"
      ],
      "metadata": {
        "id": "v3JdGSKr2oEW"
      }
    },
    {
      "cell_type": "code",
      "source": [
        "import keras.utils as image\n",
        "import glob\n",
        "import numpy as np\n",
        "#load the images\n",
        "images = sorted(glob.glob('/content/*.jpg'))\n",
        "for filename in images:\n",
        "    img = image.load_img(filename, target_size=(28, 28))\n",
        "    img = img.convert('L')\n",
        "    x = image.img_to_array(img)\n",
        "    x = 255 - x\n",
        "    x = (x - x.min()) / (x.max() - x.min())\n",
        "    x = np.expand_dims(x, axis=0)\n",
        "    npimg = np.vstack([x])\n",
        "    classes = classes_x=np.argmax(model.predict(npimg),axis=1)\n",
        "    probas = model.predict(npimg)\n",
        "    print(\"Fichier %s est un %d (%.2f %%)\" % (filename, classes[0], 100*probas[0]\n",
        "    [classes[0]]))"
      ],
      "metadata": {
        "colab": {
          "base_uri": "https://localhost:8080/"
        },
        "id": "hJG39ftU2lSy",
        "outputId": "7dca0aa8-6360-446c-c28a-62bdab1127fb"
      },
      "execution_count": null,
      "outputs": [
        {
          "output_type": "stream",
          "name": "stdout",
          "text": [
            "\u001b[1m1/1\u001b[0m \u001b[32m━━━━━━━━━━━━━━━━━━━━\u001b[0m\u001b[37m\u001b[0m \u001b[1m0s\u001b[0m 500ms/step\n",
            "\u001b[1m1/1\u001b[0m \u001b[32m━━━━━━━━━━━━━━━━━━━━\u001b[0m\u001b[37m\u001b[0m \u001b[1m0s\u001b[0m 16ms/step\n",
            "Fichier /content/0.jpg est un 0 (100.00 %)\n",
            "\u001b[1m1/1\u001b[0m \u001b[32m━━━━━━━━━━━━━━━━━━━━\u001b[0m\u001b[37m\u001b[0m \u001b[1m0s\u001b[0m 21ms/step\n",
            "\u001b[1m1/1\u001b[0m \u001b[32m━━━━━━━━━━━━━━━━━━━━\u001b[0m\u001b[37m\u001b[0m \u001b[1m0s\u001b[0m 18ms/step\n",
            "Fichier /content/1.jpg est un 1 (99.97 %)\n",
            "\u001b[1m1/1\u001b[0m \u001b[32m━━━━━━━━━━━━━━━━━━━━\u001b[0m\u001b[37m\u001b[0m \u001b[1m0s\u001b[0m 19ms/step\n",
            "\u001b[1m1/1\u001b[0m \u001b[32m━━━━━━━━━━━━━━━━━━━━\u001b[0m\u001b[37m\u001b[0m \u001b[1m0s\u001b[0m 16ms/step\n",
            "Fichier /content/2.jpg est un 2 (100.00 %)\n",
            "\u001b[1m1/1\u001b[0m \u001b[32m━━━━━━━━━━━━━━━━━━━━\u001b[0m\u001b[37m\u001b[0m \u001b[1m0s\u001b[0m 16ms/step\n",
            "\u001b[1m1/1\u001b[0m \u001b[32m━━━━━━━━━━━━━━━━━━━━\u001b[0m\u001b[37m\u001b[0m \u001b[1m0s\u001b[0m 15ms/step\n",
            "Fichier /content/7.jpg est un 7 (100.00 %)\n"
          ]
        }
      ]
    },
    {
      "cell_type": "markdown",
      "source": [
        "On affiche les images testées"
      ],
      "metadata": {
        "id": "3BitOQK62wqb"
      }
    },
    {
      "cell_type": "code",
      "source": [
        "# on utilise matplotlib pour afficher les données\n",
        "%matplotlib inline\n",
        "\n",
        "# on importe les fonctions\n",
        "import matplotlib.pyplot as plt\n",
        "\n",
        "# on va créer le graphique (4 graphes)\n",
        "# on va simplement afficher 4 images utilisées pour l'entrainement\n",
        "plt.subplot(221)\n",
        "plt.imshow(image.load_img('/content/0.jpg',  target_size=(28, 28)), cmap=plt.get_cmap('gray'))\n",
        "plt.subplot(222)\n",
        "plt.imshow(image.load_img('/content/1.jpg',  target_size=(28, 28)), cmap=plt.get_cmap('gray'))\n",
        "plt.subplot(223)\n",
        "plt.imshow(image.load_img('/content/2.jpg',  target_size=(28, 28)), cmap=plt.get_cmap('gray'))\n",
        "plt.subplot(224)\n",
        "plt.imshow(image.load_img('/content/7.jpg',  target_size=(28, 28)), cmap=plt.get_cmap('gray'))\n",
        "# show the plot\n",
        "plt.show()"
      ],
      "metadata": {
        "colab": {
          "base_uri": "https://localhost:8080/",
          "height": 432
        },
        "id": "hmB6_EUe201n",
        "outputId": "4decb922-28d6-4df4-a8ea-c2bff9bede97"
      },
      "execution_count": null,
      "outputs": [
        {
          "output_type": "display_data",
          "data": {
            "text/plain": [
              "<Figure size 640x480 with 4 Axes>"
            ],
            "image/png": "[encoded data removed]"
          },
          "metadata": {}
        }
      ]
    }
  ]
}