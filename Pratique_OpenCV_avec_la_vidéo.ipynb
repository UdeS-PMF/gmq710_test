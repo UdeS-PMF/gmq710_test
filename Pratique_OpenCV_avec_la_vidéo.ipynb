{
  "nbformat": 4,
  "nbformat_minor": 0,
  "metadata": {
    "colab": {
      "provenance": [],
      "gpuType": "T4",
      "include_colab_link": true
    },
    "kernelspec": {
      "name": "python3",
      "display_name": "Python 3"
    },
    "language_info": {
      "name": "python"
    },
    "accelerator": "GPU"
  },
  "cells": [
    {
      "cell_type": "markdown",
      "metadata": {
        "id": "view-in-github",
        "colab_type": "text"
      },
      "source": [
        "<a href=\"https://colab.research.google.com/github/UdeS-PMF/gmq710_test/blob/develop/Pratique_OpenCV_avec_la_vid%C3%A9o.ipynb\" target=\"_parent\"><img src=\"https://colab.research.google.com/assets/colab-badge.svg\" alt=\"Open In Colab\"/></a>"
      ]
    },
    {
      "cell_type": "markdown",
      "source": [
        "# Analyse de séquence vidéo avec OpenCV\n",
        "\n",
        "## Objectif\n",
        "\n",
        "On souhaite lire un flux vidéo et mettre en place une détection automatique des objets. Il s'agit de la même approche que pour l'analyse d'image. Un flux vidéo est une séquence d'images (frame). Chaque frame sera analysée.\n",
        "\n",
        "## Principe\n",
        "\n",
        "On lit un fichier MP4 (on pourrait analyser la sortie d'une caméra). On utilise OpenCV pour lire la vidéo et décomposer en images (frame by frame).\n",
        "\n",
        "On peut ainsi analyser chaque frame (comme une image) et on applique une détection par réseaux de neurones.\n",
        "\n",
        "On utilise un réseau léger (mobilenet), les résultats sont moins bons qu'un réseau plus complexe, toutefois l'approche est peu coûteuse en ressources, ce qui permet de l'utiliser sur un appareil embarqué.\n",
        "\n",
        "On peut télécharger le réseau à cette adresse : https://drive.google.com/file/d/1VaJwWPOQVNzbS6PfuS05oZdlghA8ovio/view?usp=sharing"
      ],
      "metadata": {
        "id": "HkslB_2lU6rP"
      }
    },
    {
      "cell_type": "code",
      "source": [
        "!unzip /content/mobilenet.zip -d /content/ssd_mobilenet"
      ],
      "metadata": {
        "colab": {
          "base_uri": "https://localhost:8080/"
        },
        "id": "8gB6DtAX5NBG",
        "outputId": "1854be04-b207-4ad1-b2ac-defcdbda8dbd"
      },
      "execution_count": null,
      "outputs": [
        {
          "output_type": "stream",
          "name": "stdout",
          "text": [
            "Archive:  /content/mobilenet.zip\n",
            "  inflating: /content/ssd_mobilenet/frozen_inference_graph.pb  \n",
            "  inflating: /content/ssd_mobilenet/labels.txt  \n",
            "  inflating: /content/ssd_mobilenet/ssd_mobilenet_v3_large_coco_2020_01_14.pbtxt  \n"
          ]
        }
      ]
    },
    {
      "cell_type": "markdown",
      "source": [
        "## Importation\n",
        "\n",
        "On importe numpy, opencv"
      ],
      "metadata": {
        "id": "WEg4YFdyWACo"
      }
    },
    {
      "cell_type": "code",
      "execution_count": null,
      "metadata": {
        "id": "-zTTu3K2Po_n"
      },
      "outputs": [],
      "source": [
        "import numpy as np\n",
        "import cv2\n",
        "import datetime\n",
        "import os"
      ]
    },
    {
      "cell_type": "markdown",
      "source": [
        "On lit un fichier mp4."
      ],
      "metadata": {
        "id": "_wf97xTyWHKM"
      }
    },
    {
      "cell_type": "code",
      "source": [
        "# on lit un fichier mp4\n",
        "filename = '/content/3727445-hd_1920_1080_30fps.mp4'\n",
        "video_cap = cv2.VideoCapture(filename)\n",
        "# on récupère la taille des frames\n",
        "frame_width = int(video_cap.get(cv2.CAP_PROP_FRAME_WIDTH))\n",
        "frame_height = int(video_cap.get(cv2.CAP_PROP_FRAME_HEIGHT))\n",
        "fps = int(video_cap.get(cv2.CAP_PROP_FPS))\n",
        "print(frame_height, frame_width, fps)"
      ],
      "metadata": {
        "colab": {
          "base_uri": "https://localhost:8080/"
        },
        "id": "hYypiQxrQBtr",
        "outputId": "8eb34321-b9cd-4354-aa38-470bdfc683fa"
      },
      "execution_count": null,
      "outputs": [
        {
          "output_type": "stream",
          "name": "stdout",
          "text": [
            "1080 1920 29\n"
          ]
        }
      ]
    },
    {
      "cell_type": "markdown",
      "source": [
        "On forme le réseau"
      ],
      "metadata": {
        "id": "CQfZP9rOWTN7"
      }
    },
    {
      "cell_type": "code",
      "source": [
        "weights = \"/content/ssd_mobilenet/frozen_inference_graph.pb\"\n",
        "model = \"/content/ssd_mobilenet/ssd_mobilenet_v3_large_coco_2020_01_14.pbtxt\"\n",
        "net = cv2.dnn.readNetFromTensorflow(weights, model)"
      ],
      "metadata": {
        "id": "vWvkxntIQL6i"
      },
      "execution_count": null,
      "outputs": []
    },
    {
      "cell_type": "markdown",
      "source": [
        "On définit les classes recherchées"
      ],
      "metadata": {
        "id": "83KWaGjDWWEY"
      }
    },
    {
      "cell_type": "code",
      "source": [
        "class_names = []\n",
        "with open(\"/content/ssd_mobilenet/labels.txt\", \"r\") as f:\n",
        "    class_names = f.read().strip().split(\"\\n\")"
      ],
      "metadata": {
        "id": "J90qqVCQQn3j"
      },
      "execution_count": null,
      "outputs": []
    },
    {
      "cell_type": "markdown",
      "source": [
        "On va essayer de détecter les camions dans la vidéo. L'idée est de faire analyser les frames par un réseau de neurones et de conserver les images avec un camion."
      ],
      "metadata": {
        "id": "YlXBZD-sazXu"
      }
    },
    {
      "cell_type": "code",
      "source": [
        "# on définit des couleurs aléatoires\n",
        "colors = np.random.randint(0, 255, size=(len(class_names), 3))\n",
        "\n",
        "# on va créer un répertoire pour les images avec les camions\n",
        "if not os.path.exists('/content/results'):\n",
        "    # Créez le répertoire\n",
        "    os.makedirs('/content/results')\n",
        "\n",
        "# liste des frames avec un camion\n",
        "truck_detected = []\n",
        "# on lit la vidéo\n",
        "while video_cap.isOpened():\n",
        "\n",
        "    # on ouvre la vidéo\n",
        "    success, frame = video_cap.read()\n",
        "    # si l'ouverture est faite\n",
        "    if success == True:\n",
        "        # on récupère la taille de l'image\n",
        "        h = frame.shape[0]\n",
        "        w = frame.shape[1]\n",
        "        # on va créer une image à analyser (320 x 320)\n",
        "        blob = cv2.dnn.blobFromImage(\n",
        "            frame, 1.0 / 127.5, (320, 320), [127.5, 127.5, 127.5], swapRB=True)\n",
        "        # on envoie au réseau\n",
        "        net.setInput(blob)\n",
        "        output = net.forward()\n",
        "        # on définit un FLAG pour savoir si il y a un camion\n",
        "        truck = False\n",
        "        # on souhaite récupérer les camions si on est sûr à au moins 65%\n",
        "        max_detect = 0.65\n",
        "        for detection in output[0, 0, :, :]:\n",
        "\n",
        "            # on analyse la détection du réseau\n",
        "            # on récupère la probabilité de détection d'un objet (quelconque)\n",
        "            probability = detection[2]\n",
        "            if probability > max_detect:\n",
        "                # on note la classe identifiée\n",
        "                class_id = int(detection[1])\n",
        "                label = class_names[class_id - 1].upper()\n",
        "                color = colors[class_id]\n",
        "                B, G, R = int(color[0]), int(color[1]), int(color[2])\n",
        "                # on récupère la zone dans la vidéo\n",
        "                box = [int(a * b) for a, b in zip(detection[3:7], [w, h, w, h])]\n",
        "                box = tuple(box)\n",
        "                # si c'est un camion on va conserver les infos\n",
        "                if label == \"TRUCK\":\n",
        "                    # on note une info au dessus de la boite\n",
        "                    text = f\"{label} {probability * 100:.2f}%\"\n",
        "                    cv2.putText(frame, text, (box[0], box[1]),\n",
        "                                cv2.FONT_HERSHEY_SIMPLEX, 0.5, (0, 255, 0), 2)\n",
        "                    cv2.rectangle(frame, box[:2], box[2:], (B, G, R), thickness=2)\n",
        "\n",
        "                    # on récupère le temps de la frame\n",
        "                    millis = video_cap.get(cv2.CAP_PROP_POS_MSEC)\n",
        "                    # on va déterminer les heures, minutes, secondes\n",
        "                    seconds, millis = divmod(millis, 1000)\n",
        "                    minutes, seconds = divmod(seconds, 60)\n",
        "                    hours, minutes = divmod(minutes, 60)\n",
        "                    days, hours = divmod(hours, 24)\n",
        "                    seconds = seconds + millis / 1000\n",
        "                    # on peut sauvegarder l'image avec l'infos de temps\n",
        "                    outfilename = f'/content/results/image_resu_{int(hours)}_{int(minutes)}_{round(seconds,3)}_p({round(probability*100,2)}%).jpg'\n",
        "                    # on ajoute la frame et le nom du fichier\n",
        "                    truck_detected.append([outfilename, frame])\n",
        "\n",
        "\n",
        "        # on stoppe tout si il y a un pb\n",
        "    else:\n",
        "        break\n",
        "\n",
        "# on doit relâcher la vidéo à la fin\n",
        "video_cap.release()\n"
      ],
      "metadata": {
        "id": "S0Eubf1fQuiG"
      },
      "execution_count": null,
      "outputs": []
    },
    {
      "cell_type": "markdown",
      "source": [
        "On peut générer les images de chaque frame"
      ],
      "metadata": {
        "id": "iZm7poEFEfC3"
      }
    },
    {
      "cell_type": "code",
      "source": [
        "for detect in truck_detected:\n",
        "  cv2.imwrite(detect[0], detect[1])"
      ],
      "metadata": {
        "id": "4BRSI6koDlZK"
      },
      "execution_count": null,
      "outputs": []
    },
    {
      "cell_type": "markdown",
      "source": [
        "On peut effacer les résultats"
      ],
      "metadata": {
        "id": "fCd-KDfVbQBb"
      }
    },
    {
      "cell_type": "code",
      "source": [
        "for file in os.listdir('/content/results/'):\n",
        "  if 'image_resu' in file:\n",
        "    os.remove('/content/results/' + file)\n"
      ],
      "metadata": {
        "id": "w0TOm9uFRjE5"
      },
      "execution_count": null,
      "outputs": []
    }
  ]
}